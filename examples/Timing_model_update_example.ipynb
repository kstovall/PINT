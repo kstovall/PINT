{
 "cells": [
  {
   "cell_type": "code",
   "execution_count": 1,
   "metadata": {
    "collapsed": false
   },
   "outputs": [],
   "source": [
    "import pint.models.model_builder as mb"
   ]
  },
  {
   "cell_type": "markdown",
   "metadata": {},
   "source": [
    "# To get all the model componets"
   ]
  },
  {
   "cell_type": "code",
   "execution_count": 2,
   "metadata": {
    "collapsed": false
   },
   "outputs": [
    {
     "data": {
      "text/plain": [
       "{'pint.models.astrometry': {pint.models.astrometry.Astrometry,\n",
       "  pint.models.astrometry.AstrometryEquatorial,\n",
       "  pint.models.astrometry.AstrometryEcliptic},\n",
       " 'pint.models.binary_bt': {pint.models.pulsar_binary.PulsarBinary,\n",
       "  pint.models.binary_bt.BinaryBT},\n",
       " 'pint.models.binary_dd': {pint.models.pulsar_binary.PulsarBinary,\n",
       "  pint.models.binary_dd.BinaryDD},\n",
       " 'pint.models.binary_ell1': {pint.models.pulsar_binary.PulsarBinary,\n",
       "  pint.models.binary_ell1.BinaryELL1},\n",
       " 'pint.models.dispersion_model': {pint.models.dispersion_model.Dispersion,\n",
       "  pint.models.dispersion_model.DispersionDMX},\n",
       " 'pint.models.frequency_dependent': {pint.models.frequency_dependent.FD},\n",
       " 'pint.models.glitch': {pint.models.glitch.Glitch},\n",
       " 'pint.models.jump': {pint.models.jump.JumpDelay},\n",
       " 'pint.models.pulsar_binary': {pint.models.pulsar_binary.PulsarBinary},\n",
       " 'pint.models.solar_system_shapiro': {pint.models.solar_system_shapiro.SolarSystemShapiro},\n",
       " 'pint.models.spindown': {pint.models.spindown.Spindown}}"
      ]
     },
     "execution_count": 2,
     "metadata": {},
     "output_type": "execute_result"
    }
   ],
   "source": [
    "mb.get_componets()"
   ]
  },
  {
   "cell_type": "markdown",
   "metadata": {},
   "source": [
    "# Update on timing model"
   ]
  },
  {
   "cell_type": "code",
   "execution_count": 3,
   "metadata": {
    "collapsed": false
   },
   "outputs": [
    {
     "name": "stderr",
     "output_type": "stream",
     "text": [
      "WARNING: Unrecognized parfile line 'SOLARN0               0.00' [pint.models.timing_model]\n",
      "WARNING: Unrecognized parfile line 'T2CMETHOD           TEMPO' [pint.models.timing_model]\n"
     ]
    }
   ],
   "source": [
    "model = mb.get_model('NGC6440E.par')"
   ]
  },
  {
   "cell_type": "code",
   "execution_count": 4,
   "metadata": {
    "collapsed": false
   },
   "outputs": [
    {
     "data": {
      "text/plain": [
       "['PSR']"
      ]
     },
     "execution_count": 4,
     "metadata": {},
     "output_type": "execute_result"
    }
   ],
   "source": [
    "model.get_params_of_type('str')"
   ]
  },
  {
   "cell_type": "code",
   "execution_count": 5,
   "metadata": {
    "collapsed": false
   },
   "outputs": [
    {
     "data": {
      "text/plain": [
       "['PX', 'PMRA', 'PMDEC', 'F0', 'DM']"
      ]
     },
     "execution_count": 5,
     "metadata": {},
     "output_type": "execute_result"
    }
   ],
   "source": [
    "model.get_params_of_type('float')"
   ]
  },
  {
   "cell_type": "code",
   "execution_count": 6,
   "metadata": {
    "collapsed": false
   },
   "outputs": [
    {
     "data": {
      "text/plain": [
       "['F1']"
      ]
     },
     "execution_count": 6,
     "metadata": {},
     "output_type": "execute_result"
    }
   ],
   "source": [
    "model.get_params_of_type('prefix')"
   ]
  },
  {
   "cell_type": "code",
   "execution_count": null,
   "metadata": {
    "collapsed": false
   },
   "outputs": [],
   "source": []
  }
 ],
 "metadata": {
  "kernelspec": {
   "display_name": "Python 2",
   "language": "python",
   "name": "python2"
  },
  "language_info": {
   "codemirror_mode": {
    "name": "ipython",
    "version": 2
   },
   "file_extension": ".py",
   "mimetype": "text/x-python",
   "name": "python",
   "nbconvert_exporter": "python",
   "pygments_lexer": "ipython2",
   "version": "2.7.12"
  }
 },
 "nbformat": 4,
 "nbformat_minor": 0
}
